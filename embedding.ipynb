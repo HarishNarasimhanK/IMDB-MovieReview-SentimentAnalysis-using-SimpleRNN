{
 "cells": [
  {
   "cell_type": "code",
   "execution_count": 1,
   "metadata": {},
   "outputs": [],
   "source": [
    "from tensorflow.keras.preprocessing.text import one_hot"
   ]
  },
  {
   "cell_type": "code",
   "execution_count": 2,
   "metadata": {},
   "outputs": [],
   "source": [
    "sentences = [\"i am a good boy\",\n",
    "             \"i am a bad gril\",\n",
    "             \"boy and girl are good\",\n",
    "             \"i am bad\"]"
   ]
  },
  {
   "cell_type": "code",
   "execution_count": 3,
   "metadata": {},
   "outputs": [],
   "source": [
    "# defining Vocabulary Size\n",
    "voc_size = 10000"
   ]
  },
  {
   "cell_type": "code",
   "execution_count": 4,
   "metadata": {},
   "outputs": [
    {
     "data": {
      "text/plain": [
       "[[6736, 6982, 5844, 282, 6900],\n",
       " [6736, 6982, 5844, 9223, 957],\n",
       " [6900, 605, 9115, 2449, 282],\n",
       " [6736, 6982, 9223]]"
      ]
     },
     "execution_count": 4,
     "metadata": {},
     "output_type": "execute_result"
    }
   ],
   "source": [
    "# One Hot representation\n",
    "one_hot_repr = [ one_hot(words,voc_size) for words in sentences ]\n",
    "one_hot_repr"
   ]
  },
  {
   "cell_type": "code",
   "execution_count": 5,
   "metadata": {},
   "outputs": [],
   "source": [
    "# Word Embedding Representation\n",
    "from tensorflow.keras.layers import Embedding\n",
    "from tensorflow.keras.preprocessing.sequence import pad_sequences\n",
    "from tensorflow.keras.models import Sequential"
   ]
  },
  {
   "cell_type": "code",
   "execution_count": 6,
   "metadata": {},
   "outputs": [],
   "source": [
    "import numpy as np"
   ]
  },
  {
   "cell_type": "markdown",
   "metadata": {},
   "source": [
    "#### Every Sentences have different dimensions in OneHot representation\n",
    "##### so we have to make the dimensions equal"
   ]
  },
  {
   "cell_type": "code",
   "execution_count": 7,
   "metadata": {},
   "outputs": [
    {
     "data": {
      "text/plain": [
       "array([[   0,    0,    0,    0,    0, 6736, 6982, 5844,  282, 6900],\n",
       "       [   0,    0,    0,    0,    0, 6736, 6982, 5844, 9223,  957],\n",
       "       [   0,    0,    0,    0,    0, 6900,  605, 9115, 2449,  282],\n",
       "       [   0,    0,    0,    0,    0,    0,    0, 6736, 6982, 9223]])"
      ]
     },
     "execution_count": 7,
     "metadata": {},
     "output_type": "execute_result"
    }
   ],
   "source": [
    "# PrePadding is used\n",
    "sent_length = 10\n",
    "embedded_docs_pre = pad_sequences(one_hot_repr, padding = 'pre',maxlen = sent_length)\n",
    "embedded_docs_pre"
   ]
  },
  {
   "cell_type": "code",
   "execution_count": 8,
   "metadata": {},
   "outputs": [
    {
     "data": {
      "text/plain": [
       "array([[6736, 6982, 5844,  282, 6900,    0,    0,    0,    0,    0],\n",
       "       [6736, 6982, 5844, 9223,  957,    0,    0,    0,    0,    0],\n",
       "       [6900,  605, 9115, 2449,  282,    0,    0,    0,    0,    0],\n",
       "       [6736, 6982, 9223,    0,    0,    0,    0,    0,    0,    0]])"
      ]
     },
     "execution_count": 8,
     "metadata": {},
     "output_type": "execute_result"
    }
   ],
   "source": [
    "# PostPadding is used\n",
    "sent_length = 10\n",
    "embedded_docs_post = pad_sequences(one_hot_repr, padding = 'post',maxlen = sent_length)\n",
    "embedded_docs_post"
   ]
  },
  {
   "cell_type": "code",
   "execution_count": 9,
   "metadata": {},
   "outputs": [],
   "source": [
    "# Feature Representation \n",
    "dimensions = 10\n",
    "voc_size = 10000\n",
    "sent_length = 10"
   ]
  },
  {
   "cell_type": "code",
   "execution_count": 10,
   "metadata": {},
   "outputs": [
    {
     "name": "stderr",
     "output_type": "stream",
     "text": [
      "c:\\Users\\LENOVA\\anaconda3\\Lib\\site-packages\\keras\\src\\layers\\core\\embedding.py:90: UserWarning: Argument `input_length` is deprecated. Just remove it.\n",
      "  warnings.warn(\n"
     ]
    },
    {
     "data": {
      "text/html": [
       "<pre style=\"white-space:pre;overflow-x:auto;line-height:normal;font-family:Menlo,'DejaVu Sans Mono',consolas,'Courier New',monospace\"><span style=\"font-weight: bold\">Model: \"sequential\"</span>\n",
       "</pre>\n"
      ],
      "text/plain": [
       "\u001b[1mModel: \"sequential\"\u001b[0m\n"
      ]
     },
     "metadata": {},
     "output_type": "display_data"
    },
    {
     "data": {
      "text/html": [
       "<pre style=\"white-space:pre;overflow-x:auto;line-height:normal;font-family:Menlo,'DejaVu Sans Mono',consolas,'Courier New',monospace\">┏━━━━━━━━━━━━━━━━━━━━━━━━━━━━━━━━━┳━━━━━━━━━━━━━━━━━━━━━━━━┳━━━━━━━━━━━━━━━┓\n",
       "┃<span style=\"font-weight: bold\"> Layer (type)                    </span>┃<span style=\"font-weight: bold\"> Output Shape           </span>┃<span style=\"font-weight: bold\">       Param # </span>┃\n",
       "┡━━━━━━━━━━━━━━━━━━━━━━━━━━━━━━━━━╇━━━━━━━━━━━━━━━━━━━━━━━━╇━━━━━━━━━━━━━━━┩\n",
       "│ embedding (<span style=\"color: #0087ff; text-decoration-color: #0087ff\">Embedding</span>)           │ ?                      │   <span style=\"color: #00af00; text-decoration-color: #00af00\">0</span> (unbuilt) │\n",
       "└─────────────────────────────────┴────────────────────────┴───────────────┘\n",
       "</pre>\n"
      ],
      "text/plain": [
       "┏━━━━━━━━━━━━━━━━━━━━━━━━━━━━━━━━━┳━━━━━━━━━━━━━━━━━━━━━━━━┳━━━━━━━━━━━━━━━┓\n",
       "┃\u001b[1m \u001b[0m\u001b[1mLayer (type)                   \u001b[0m\u001b[1m \u001b[0m┃\u001b[1m \u001b[0m\u001b[1mOutput Shape          \u001b[0m\u001b[1m \u001b[0m┃\u001b[1m \u001b[0m\u001b[1m      Param #\u001b[0m\u001b[1m \u001b[0m┃\n",
       "┡━━━━━━━━━━━━━━━━━━━━━━━━━━━━━━━━━╇━━━━━━━━━━━━━━━━━━━━━━━━╇━━━━━━━━━━━━━━━┩\n",
       "│ embedding (\u001b[38;5;33mEmbedding\u001b[0m)           │ ?                      │   \u001b[38;5;34m0\u001b[0m (unbuilt) │\n",
       "└─────────────────────────────────┴────────────────────────┴───────────────┘\n"
      ]
     },
     "metadata": {},
     "output_type": "display_data"
    },
    {
     "data": {
      "text/html": [
       "<pre style=\"white-space:pre;overflow-x:auto;line-height:normal;font-family:Menlo,'DejaVu Sans Mono',consolas,'Courier New',monospace\"><span style=\"font-weight: bold\"> Total params: </span><span style=\"color: #00af00; text-decoration-color: #00af00\">0</span> (0.00 B)\n",
       "</pre>\n"
      ],
      "text/plain": [
       "\u001b[1m Total params: \u001b[0m\u001b[38;5;34m0\u001b[0m (0.00 B)\n"
      ]
     },
     "metadata": {},
     "output_type": "display_data"
    },
    {
     "data": {
      "text/html": [
       "<pre style=\"white-space:pre;overflow-x:auto;line-height:normal;font-family:Menlo,'DejaVu Sans Mono',consolas,'Courier New',monospace\"><span style=\"font-weight: bold\"> Trainable params: </span><span style=\"color: #00af00; text-decoration-color: #00af00\">0</span> (0.00 B)\n",
       "</pre>\n"
      ],
      "text/plain": [
       "\u001b[1m Trainable params: \u001b[0m\u001b[38;5;34m0\u001b[0m (0.00 B)\n"
      ]
     },
     "metadata": {},
     "output_type": "display_data"
    },
    {
     "data": {
      "text/html": [
       "<pre style=\"white-space:pre;overflow-x:auto;line-height:normal;font-family:Menlo,'DejaVu Sans Mono',consolas,'Courier New',monospace\"><span style=\"font-weight: bold\"> Non-trainable params: </span><span style=\"color: #00af00; text-decoration-color: #00af00\">0</span> (0.00 B)\n",
       "</pre>\n"
      ],
      "text/plain": [
       "\u001b[1m Non-trainable params: \u001b[0m\u001b[38;5;34m0\u001b[0m (0.00 B)\n"
      ]
     },
     "metadata": {},
     "output_type": "display_data"
    }
   ],
   "source": [
    "model = Sequential()\n",
    "model.add(Embedding(voc_size, dimensions, input_length = sent_length))\n",
    "model.compile(optimizer = 'adam', loss = 'mse')\n",
    "model.summary()"
   ]
  },
  {
   "cell_type": "code",
   "execution_count": 15,
   "metadata": {},
   "outputs": [
    {
     "name": "stdout",
     "output_type": "stream",
     "text": [
      "\u001b[1m1/1\u001b[0m \u001b[32m━━━━━━━━━━━━━━━━━━━━\u001b[0m\u001b[37m\u001b[0m \u001b[1m0s\u001b[0m 37ms/step\n"
     ]
    },
    {
     "data": {
      "text/plain": [
       "array([[-0.0261089 , -0.01423099,  0.01434607,  0.02565758,  0.0372723 ,\n",
       "         0.00691609, -0.03516054,  0.04381819, -0.0424302 ,  0.00642556],\n",
       "       [-0.0261089 , -0.01423099,  0.01434607,  0.02565758,  0.0372723 ,\n",
       "         0.00691609, -0.03516054,  0.04381819, -0.0424302 ,  0.00642556],\n",
       "       [-0.0261089 , -0.01423099,  0.01434607,  0.02565758,  0.0372723 ,\n",
       "         0.00691609, -0.03516054,  0.04381819, -0.0424302 ,  0.00642556],\n",
       "       [-0.0261089 , -0.01423099,  0.01434607,  0.02565758,  0.0372723 ,\n",
       "         0.00691609, -0.03516054,  0.04381819, -0.0424302 ,  0.00642556],\n",
       "       [-0.0261089 , -0.01423099,  0.01434607,  0.02565758,  0.0372723 ,\n",
       "         0.00691609, -0.03516054,  0.04381819, -0.0424302 ,  0.00642556],\n",
       "       [ 0.01535361,  0.01623745,  0.02720502,  0.04406718, -0.04479914,\n",
       "        -0.02856064,  0.01290437,  0.0391459 , -0.00339937, -0.00965848],\n",
       "       [ 0.01533986,  0.0172087 , -0.01661281, -0.01262754, -0.01411374,\n",
       "         0.00609992,  0.00407622, -0.04435425,  0.02829008, -0.04433703],\n",
       "       [ 0.04395438,  0.01581069,  0.0386696 , -0.04425701,  0.0119583 ,\n",
       "         0.03315267,  0.03139723, -0.03984659,  0.00937038,  0.03142503],\n",
       "       [ 0.01617812,  0.04440341, -0.01337274,  0.03227563, -0.03976886,\n",
       "        -0.01964544,  0.00351082, -0.01542874,  0.00690074, -0.0105018 ],\n",
       "       [-0.03840343,  0.04952505, -0.04974193,  0.02047337, -0.00752147,\n",
       "        -0.0288195 ,  0.03140004, -0.00033976,  0.03064394,  0.02638545]],\n",
       "      dtype=float32)"
      ]
     },
     "execution_count": 15,
     "metadata": {},
     "output_type": "execute_result"
    }
   ],
   "source": [
    "model.predict(embedded_docs_pre[0])"
   ]
  },
  {
   "cell_type": "code",
   "execution_count": 16,
   "metadata": {},
   "outputs": [
    {
     "name": "stdout",
     "output_type": "stream",
     "text": [
      "\u001b[1m1/1\u001b[0m \u001b[32m━━━━━━━━━━━━━━━━━━━━\u001b[0m\u001b[37m\u001b[0m \u001b[1m0s\u001b[0m 37ms/step\n"
     ]
    },
    {
     "data": {
      "text/plain": [
       "array([[ 0.01535361,  0.01623745,  0.02720502,  0.04406718, -0.04479914,\n",
       "        -0.02856064,  0.01290437,  0.0391459 , -0.00339937, -0.00965848],\n",
       "       [ 0.01533986,  0.0172087 , -0.01661281, -0.01262754, -0.01411374,\n",
       "         0.00609992,  0.00407622, -0.04435425,  0.02829008, -0.04433703],\n",
       "       [ 0.04395438,  0.01581069,  0.0386696 , -0.04425701,  0.0119583 ,\n",
       "         0.03315267,  0.03139723, -0.03984659,  0.00937038,  0.03142503],\n",
       "       [ 0.01617812,  0.04440341, -0.01337274,  0.03227563, -0.03976886,\n",
       "        -0.01964544,  0.00351082, -0.01542874,  0.00690074, -0.0105018 ],\n",
       "       [-0.03840343,  0.04952505, -0.04974193,  0.02047337, -0.00752147,\n",
       "        -0.0288195 ,  0.03140004, -0.00033976,  0.03064394,  0.02638545],\n",
       "       [-0.0261089 , -0.01423099,  0.01434607,  0.02565758,  0.0372723 ,\n",
       "         0.00691609, -0.03516054,  0.04381819, -0.0424302 ,  0.00642556],\n",
       "       [-0.0261089 , -0.01423099,  0.01434607,  0.02565758,  0.0372723 ,\n",
       "         0.00691609, -0.03516054,  0.04381819, -0.0424302 ,  0.00642556],\n",
       "       [-0.0261089 , -0.01423099,  0.01434607,  0.02565758,  0.0372723 ,\n",
       "         0.00691609, -0.03516054,  0.04381819, -0.0424302 ,  0.00642556],\n",
       "       [-0.0261089 , -0.01423099,  0.01434607,  0.02565758,  0.0372723 ,\n",
       "         0.00691609, -0.03516054,  0.04381819, -0.0424302 ,  0.00642556],\n",
       "       [-0.0261089 , -0.01423099,  0.01434607,  0.02565758,  0.0372723 ,\n",
       "         0.00691609, -0.03516054,  0.04381819, -0.0424302 ,  0.00642556]],\n",
       "      dtype=float32)"
      ]
     },
     "execution_count": 16,
     "metadata": {},
     "output_type": "execute_result"
    }
   ],
   "source": [
    "model.predict(embedded_docs_post[0])"
   ]
  },
  {
   "cell_type": "code",
   "execution_count": null,
   "metadata": {},
   "outputs": [],
   "source": [
    " "
   ]
  }
 ],
 "metadata": {
  "kernelspec": {
   "display_name": "base",
   "language": "python",
   "name": "python3"
  },
  "language_info": {
   "codemirror_mode": {
    "name": "ipython",
    "version": 3
   },
   "file_extension": ".py",
   "mimetype": "text/x-python",
   "name": "python",
   "nbconvert_exporter": "python",
   "pygments_lexer": "ipython3",
   "version": "3.12.4"
  }
 },
 "nbformat": 4,
 "nbformat_minor": 2
}
